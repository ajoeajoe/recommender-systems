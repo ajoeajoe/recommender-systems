{
 "cells": [
  {
   "cell_type": "code",
   "execution_count": null,
   "metadata": {
    "collapsed": false
   },
   "outputs": [],
   "source": [
    "from collections import defaultdict\n",
    "\n",
    "from lightfm import LightFM\n",
    "from lightfm import evaluation\n",
    "import numpy as np\n",
    "import pandas as pd\n",
    "from sklearn import model_selection\n",
    "\n",
    "import resources as re"
   ]
  },
  {
   "cell_type": "code",
   "execution_count": null,
   "metadata": {
    "collapsed": false,
    "scrolled": false
   },
   "outputs": [],
   "source": [
    "# Data from https://grouplens.org/datasets/movielens/\n",
    "ratings_df = pd.read_csv('data/ratings.tsv', delimiter='\\t')\n",
    "users_df = pd.read_csv('data/users.tsv', delimiter='\\t')\n",
    "items_df = pd.read_csv('data/items.tsv', delimiter='\\t')"
   ]
  },
  {
   "cell_type": "code",
   "execution_count": null,
   "metadata": {
    "collapsed": true
   },
   "outputs": [],
   "source": [
    "# Users and items IDs start in 1, let's fix this\n",
    "ratings_df.user = ratings_df.user - 1\n",
    "ratings_df.item = ratings_df.item - 1\n",
    "users_df.user = users_df.user - 1\n",
    "items_df.item = items_df.item - 1"
   ]
  },
  {
   "cell_type": "code",
   "execution_count": null,
   "metadata": {
    "collapsed": false
   },
   "outputs": [],
   "source": [
    "ratings_df.head()"
   ]
  },
  {
   "cell_type": "code",
   "execution_count": null,
   "metadata": {
    "collapsed": false
   },
   "outputs": [],
   "source": [
    "users_df.head()"
   ]
  },
  {
   "cell_type": "code",
   "execution_count": null,
   "metadata": {
    "collapsed": false
   },
   "outputs": [],
   "source": [
    "items_df.head()"
   ]
  },
  {
   "cell_type": "code",
   "execution_count": null,
   "metadata": {
    "collapsed": true
   },
   "outputs": [],
   "source": [
    "user_features_dict = re.build_dict(np.hstack(['age', 'female', 'male', users_df.occupation.unique()]))\n",
    "user_features_df = re.build_users_dataframe(users_df, user_features_dict)"
   ]
  },
  {
   "cell_type": "code",
   "execution_count": null,
   "metadata": {
    "collapsed": false
   },
   "outputs": [],
   "source": [
    "user_features_df.head()"
   ]
  },
  {
   "cell_type": "code",
   "execution_count": null,
   "metadata": {
    "collapsed": false
   },
   "outputs": [],
   "source": [
    "item_features_dict = re.build_dict(np.hstack(['release', items_df.columns[-19:]]))\n",
    "item_features_df = re.build_items_dataframe(items_df, item_features_dict)"
   ]
  },
  {
   "cell_type": "code",
   "execution_count": null,
   "metadata": {
    "collapsed": false
   },
   "outputs": [],
   "source": [
    "item_features_df.head()"
   ]
  },
  {
   "cell_type": "code",
   "execution_count": null,
   "metadata": {
    "collapsed": false
   },
   "outputs": [],
   "source": [
    "# Getting stats\n",
    "length = len(ratings_df)\n",
    "num_users = len(ratings_df['user'].unique())\n",
    "num_items = len(ratings_df['item'].unique())\n",
    "num_user_features = len(user_features_dict)\n",
    "num_item_features = len(item_features_dict)"
   ]
  },
  {
   "cell_type": "code",
   "execution_count": null,
   "metadata": {
    "collapsed": false
   },
   "outputs": [],
   "source": [
    "length, num_users, num_items, num_user_features, num_item_features"
   ]
  },
  {
   "cell_type": "code",
   "execution_count": null,
   "metadata": {
    "collapsed": false
   },
   "outputs": [],
   "source": [
    "# Getting a quasi-k-fold\n",
    "ss = model_selection.ShuffleSplit(n_splits=1, random_state=19, test_size=0.1)\n",
    "for train_index, test_index in ss.split(ratings_df):\n",
    "    break"
   ]
  },
  {
   "cell_type": "code",
   "execution_count": null,
   "metadata": {
    "collapsed": false
   },
   "outputs": [],
   "source": [
    "len(train_index), len(test_index)"
   ]
  },
  {
   "cell_type": "code",
   "execution_count": null,
   "metadata": {
    "collapsed": true
   },
   "outputs": [],
   "source": [
    "# Getting the training and testing datasets\n",
    "train_df = ratings_df.iloc[train_index]\n",
    "test_df = ratings_df.iloc[test_index]"
   ]
  },
  {
   "cell_type": "code",
   "execution_count": null,
   "metadata": {
    "collapsed": false
   },
   "outputs": [],
   "source": [
    "# Transforming the final data to sparse matrices\n",
    "train_data = re.build_interaction_matrix(num_users, num_items, train_df,\n",
    "                                         re.collaborative_filter, {'min_rating': 3})\n",
    "test_data = re.build_interaction_matrix(num_users, num_items,\n",
    "                                        test_df, re.collaborative_filter, {'min_rating': 3})\n",
    "user_features = re.build_interaction_matrix(num_users, num_user_features,\n",
    "                                            user_features_df, re.content_filter, {'kind': 'user'})\n",
    "item_features = re.build_interaction_matrix(item_features_df)"
   ]
  },
  {
   "cell_type": "code",
   "execution_count": null,
   "metadata": {
    "collapsed": false
   },
   "outputs": [],
   "source": [
    "# Training the model\n",
    "model = LightFM(no_components=5, loss='warp', learning_schedule='adagrad',\n",
    "                random_state=19)\n",
    "\n",
    "model.fit(train_data, # user_features=user_features, item_features=item_features,\n",
    "          epochs=5, num_threads=2)"
   ]
  },
  {
   "cell_type": "code",
   "execution_count": null,
   "metadata": {
    "collapsed": false
   },
   "outputs": [],
   "source": [
    "# Scoring...\n",
    "auc_score_train = evaluation.auc_score(model, train_data,\n",
    "                                       # user_features=user_features, item_features=item_features,\n",
    "                                       num_threads=2).mean()\n",
    "auc_score_test = evaluation.auc_score(model, test_data,\n",
    "                                      # user_features=user_features, item_features=item_features,\n",
    "                                      num_threads=2).mean()"
   ]
  },
  {
   "cell_type": "code",
   "execution_count": null,
   "metadata": {
    "collapsed": false
   },
   "outputs": [],
   "source": [
    "auc_score_train, auc_score_test"
   ]
  },
  {
   "cell_type": "code",
   "execution_count": null,
   "metadata": {
    "collapsed": false
   },
   "outputs": [],
   "source": [
    "# And getting a recommendation!!\n",
    "user_id = 2  # The user for recommending movies\n",
    "year = 1995  # A filter\n",
    "\n",
    "scores = model.predict(user_id, np.arange(num_items), user_features=user_features,\n",
    "                       item_features=item_features, num_threads=2)\n",
    "\n",
    "scores_index_sorted = scores.argsort()[::-1]  # Sorting, getting indeces and reversing\n",
    "after_95 = item_features_df.release.values > year  # Filtering by year\n",
    "after_95_sorted = after_95[scores_index_sorted]  # Sorting filter\n",
    "recommendation = scores_index_sorted[after_95_sorted]  # Getting recommendation\n",
    "\n",
    "items_df.title.values[recommendation][:100]  # Getting recommendation tittles"
   ]
  }
 ],
 "metadata": {
  "kernelspec": {
   "display_name": "Python 3",
   "language": "python",
   "name": "python3"
  },
  "language_info": {
   "codemirror_mode": {
    "name": "ipython",
    "version": 3
   },
   "file_extension": ".py",
   "mimetype": "text/x-python",
   "name": "python",
   "nbconvert_exporter": "python",
   "pygments_lexer": "ipython3",
   "version": "3.5.2"
  }
 },
 "nbformat": 4,
 "nbformat_minor": 2
}
