{
 "cells": [
  {
   "cell_type": "code",
   "execution_count": 1,
   "metadata": {
    "collapsed": false
   },
   "outputs": [],
   "source": [
    "from collections import defaultdict\n",
    "\n",
    "from lightfm import LightFM\n",
    "from lightfm import evaluation\n",
    "import numpy as np\n",
    "import pandas as pd\n",
    "from sklearn import model_selection\n",
    "\n",
    "import resources as re"
   ]
  },
  {
   "cell_type": "code",
   "execution_count": 2,
   "metadata": {
    "collapsed": false,
    "scrolled": false
   },
   "outputs": [],
   "source": [
    "# Data from https://grouplens.org/datasets/movielens/\n",
    "ratings_df = pd.read_csv('data/ratings.tsv', delimiter='\\t')\n",
    "users_df = pd.read_csv('data/users.tsv', delimiter='\\t')\n",
    "items_df = pd.read_csv('data/items.tsv', delimiter='\\t')"
   ]
  },
  {
   "cell_type": "code",
   "execution_count": 3,
   "metadata": {
    "collapsed": true
   },
   "outputs": [],
   "source": [
    "# Users and items IDs start in 1, let's fix this\n",
    "ratings_df.user = ratings_df.user - 1\n",
    "ratings_df.item = ratings_df.item - 1\n",
    "users_df.user = users_df.user - 1\n",
    "items_df.item = items_df.item - 1"
   ]
  },
  {
   "cell_type": "code",
   "execution_count": 4,
   "metadata": {
    "collapsed": false
   },
   "outputs": [
    {
     "data": {
      "text/html": [
       "<div>\n",
       "<table border=\"1\" class=\"dataframe\">\n",
       "  <thead>\n",
       "    <tr style=\"text-align: right;\">\n",
       "      <th></th>\n",
       "      <th>user</th>\n",
       "      <th>item</th>\n",
       "      <th>rating</th>\n",
       "      <th>timestamp</th>\n",
       "    </tr>\n",
       "  </thead>\n",
       "  <tbody>\n",
       "    <tr>\n",
       "      <th>0</th>\n",
       "      <td>195</td>\n",
       "      <td>241</td>\n",
       "      <td>3</td>\n",
       "      <td>881250949</td>\n",
       "    </tr>\n",
       "    <tr>\n",
       "      <th>1</th>\n",
       "      <td>185</td>\n",
       "      <td>301</td>\n",
       "      <td>3</td>\n",
       "      <td>891717742</td>\n",
       "    </tr>\n",
       "    <tr>\n",
       "      <th>2</th>\n",
       "      <td>21</td>\n",
       "      <td>376</td>\n",
       "      <td>1</td>\n",
       "      <td>878887116</td>\n",
       "    </tr>\n",
       "    <tr>\n",
       "      <th>3</th>\n",
       "      <td>243</td>\n",
       "      <td>50</td>\n",
       "      <td>2</td>\n",
       "      <td>880606923</td>\n",
       "    </tr>\n",
       "    <tr>\n",
       "      <th>4</th>\n",
       "      <td>165</td>\n",
       "      <td>345</td>\n",
       "      <td>1</td>\n",
       "      <td>886397596</td>\n",
       "    </tr>\n",
       "  </tbody>\n",
       "</table>\n",
       "</div>"
      ],
      "text/plain": [
       "   user  item  rating  timestamp\n",
       "0   195   241       3  881250949\n",
       "1   185   301       3  891717742\n",
       "2    21   376       1  878887116\n",
       "3   243    50       2  880606923\n",
       "4   165   345       1  886397596"
      ]
     },
     "execution_count": 4,
     "metadata": {},
     "output_type": "execute_result"
    }
   ],
   "source": [
    "ratings_df.head()"
   ]
  },
  {
   "cell_type": "code",
   "execution_count": 5,
   "metadata": {
    "collapsed": false
   },
   "outputs": [
    {
     "data": {
      "text/html": [
       "<div>\n",
       "<table border=\"1\" class=\"dataframe\">\n",
       "  <thead>\n",
       "    <tr style=\"text-align: right;\">\n",
       "      <th></th>\n",
       "      <th>user</th>\n",
       "      <th>age</th>\n",
       "      <th>gender</th>\n",
       "      <th>occupation</th>\n",
       "      <th>zip_code</th>\n",
       "    </tr>\n",
       "  </thead>\n",
       "  <tbody>\n",
       "    <tr>\n",
       "      <th>0</th>\n",
       "      <td>0</td>\n",
       "      <td>24</td>\n",
       "      <td>M</td>\n",
       "      <td>technician</td>\n",
       "      <td>85711</td>\n",
       "    </tr>\n",
       "    <tr>\n",
       "      <th>1</th>\n",
       "      <td>1</td>\n",
       "      <td>53</td>\n",
       "      <td>F</td>\n",
       "      <td>other</td>\n",
       "      <td>94043</td>\n",
       "    </tr>\n",
       "    <tr>\n",
       "      <th>2</th>\n",
       "      <td>2</td>\n",
       "      <td>23</td>\n",
       "      <td>M</td>\n",
       "      <td>writer</td>\n",
       "      <td>32067</td>\n",
       "    </tr>\n",
       "    <tr>\n",
       "      <th>3</th>\n",
       "      <td>3</td>\n",
       "      <td>24</td>\n",
       "      <td>M</td>\n",
       "      <td>technician</td>\n",
       "      <td>43537</td>\n",
       "    </tr>\n",
       "    <tr>\n",
       "      <th>4</th>\n",
       "      <td>4</td>\n",
       "      <td>33</td>\n",
       "      <td>F</td>\n",
       "      <td>other</td>\n",
       "      <td>15213</td>\n",
       "    </tr>\n",
       "  </tbody>\n",
       "</table>\n",
       "</div>"
      ],
      "text/plain": [
       "   user  age gender  occupation zip_code\n",
       "0     0   24      M  technician    85711\n",
       "1     1   53      F       other    94043\n",
       "2     2   23      M      writer    32067\n",
       "3     3   24      M  technician    43537\n",
       "4     4   33      F       other    15213"
      ]
     },
     "execution_count": 5,
     "metadata": {},
     "output_type": "execute_result"
    }
   ],
   "source": [
    "users_df.head()"
   ]
  },
  {
   "cell_type": "code",
   "execution_count": 6,
   "metadata": {
    "collapsed": false
   },
   "outputs": [
    {
     "data": {
      "text/html": [
       "<div>\n",
       "<table border=\"1\" class=\"dataframe\">\n",
       "  <thead>\n",
       "    <tr style=\"text-align: right;\">\n",
       "      <th></th>\n",
       "      <th>item</th>\n",
       "      <th>title</th>\n",
       "      <th>release</th>\n",
       "      <th>url</th>\n",
       "      <th>unkown</th>\n",
       "      <th>action</th>\n",
       "      <th>adventure</th>\n",
       "      <th>animation</th>\n",
       "      <th>children</th>\n",
       "      <th>comedy</th>\n",
       "      <th>...</th>\n",
       "      <th>fantasy</th>\n",
       "      <th>noir</th>\n",
       "      <th>horror</th>\n",
       "      <th>musical</th>\n",
       "      <th>mystery</th>\n",
       "      <th>romance</th>\n",
       "      <th>scifi</th>\n",
       "      <th>thriller</th>\n",
       "      <th>war</th>\n",
       "      <th>western</th>\n",
       "    </tr>\n",
       "  </thead>\n",
       "  <tbody>\n",
       "    <tr>\n",
       "      <th>0</th>\n",
       "      <td>0</td>\n",
       "      <td>Toy Story (1995)</td>\n",
       "      <td>01-Jan-1995</td>\n",
       "      <td>http://us.imdb.com/M/title-exact?Toy%20Story%2...</td>\n",
       "      <td>0</td>\n",
       "      <td>0</td>\n",
       "      <td>0</td>\n",
       "      <td>1</td>\n",
       "      <td>1</td>\n",
       "      <td>1</td>\n",
       "      <td>...</td>\n",
       "      <td>0</td>\n",
       "      <td>0</td>\n",
       "      <td>0</td>\n",
       "      <td>0</td>\n",
       "      <td>0</td>\n",
       "      <td>0</td>\n",
       "      <td>0</td>\n",
       "      <td>0</td>\n",
       "      <td>0</td>\n",
       "      <td>0.0</td>\n",
       "    </tr>\n",
       "    <tr>\n",
       "      <th>1</th>\n",
       "      <td>1</td>\n",
       "      <td>GoldenEye (1995)</td>\n",
       "      <td>01-Jan-1995</td>\n",
       "      <td>http://us.imdb.com/M/title-exact?GoldenEye%20(...</td>\n",
       "      <td>0</td>\n",
       "      <td>1</td>\n",
       "      <td>1</td>\n",
       "      <td>0</td>\n",
       "      <td>0</td>\n",
       "      <td>0</td>\n",
       "      <td>...</td>\n",
       "      <td>0</td>\n",
       "      <td>0</td>\n",
       "      <td>0</td>\n",
       "      <td>0</td>\n",
       "      <td>0</td>\n",
       "      <td>0</td>\n",
       "      <td>0</td>\n",
       "      <td>1</td>\n",
       "      <td>0</td>\n",
       "      <td>0.0</td>\n",
       "    </tr>\n",
       "    <tr>\n",
       "      <th>2</th>\n",
       "      <td>2</td>\n",
       "      <td>Four Rooms (1995)</td>\n",
       "      <td>01-Jan-1995</td>\n",
       "      <td>http://us.imdb.com/M/title-exact?Four%20Rooms%...</td>\n",
       "      <td>0</td>\n",
       "      <td>0</td>\n",
       "      <td>0</td>\n",
       "      <td>0</td>\n",
       "      <td>0</td>\n",
       "      <td>0</td>\n",
       "      <td>...</td>\n",
       "      <td>0</td>\n",
       "      <td>0</td>\n",
       "      <td>0</td>\n",
       "      <td>0</td>\n",
       "      <td>0</td>\n",
       "      <td>0</td>\n",
       "      <td>0</td>\n",
       "      <td>1</td>\n",
       "      <td>0</td>\n",
       "      <td>0.0</td>\n",
       "    </tr>\n",
       "    <tr>\n",
       "      <th>3</th>\n",
       "      <td>3</td>\n",
       "      <td>Get Shorty (1995)</td>\n",
       "      <td>01-Jan-1995</td>\n",
       "      <td>http://us.imdb.com/M/title-exact?Get%20Shorty%...</td>\n",
       "      <td>0</td>\n",
       "      <td>1</td>\n",
       "      <td>0</td>\n",
       "      <td>0</td>\n",
       "      <td>0</td>\n",
       "      <td>1</td>\n",
       "      <td>...</td>\n",
       "      <td>0</td>\n",
       "      <td>0</td>\n",
       "      <td>0</td>\n",
       "      <td>0</td>\n",
       "      <td>0</td>\n",
       "      <td>0</td>\n",
       "      <td>0</td>\n",
       "      <td>0</td>\n",
       "      <td>0</td>\n",
       "      <td>0.0</td>\n",
       "    </tr>\n",
       "    <tr>\n",
       "      <th>4</th>\n",
       "      <td>4</td>\n",
       "      <td>Copycat (1995)</td>\n",
       "      <td>01-Jan-1995</td>\n",
       "      <td>http://us.imdb.com/M/title-exact?Copycat%20(1995)</td>\n",
       "      <td>0</td>\n",
       "      <td>0</td>\n",
       "      <td>0</td>\n",
       "      <td>0</td>\n",
       "      <td>0</td>\n",
       "      <td>0</td>\n",
       "      <td>...</td>\n",
       "      <td>0</td>\n",
       "      <td>0</td>\n",
       "      <td>0</td>\n",
       "      <td>0</td>\n",
       "      <td>0</td>\n",
       "      <td>0</td>\n",
       "      <td>0</td>\n",
       "      <td>1</td>\n",
       "      <td>0</td>\n",
       "      <td>0.0</td>\n",
       "    </tr>\n",
       "  </tbody>\n",
       "</table>\n",
       "<p>5 rows × 23 columns</p>\n",
       "</div>"
      ],
      "text/plain": [
       "   item              title      release  \\\n",
       "0     0   Toy Story (1995)  01-Jan-1995   \n",
       "1     1   GoldenEye (1995)  01-Jan-1995   \n",
       "2     2  Four Rooms (1995)  01-Jan-1995   \n",
       "3     3  Get Shorty (1995)  01-Jan-1995   \n",
       "4     4     Copycat (1995)  01-Jan-1995   \n",
       "\n",
       "                                                 url  unkown  action  \\\n",
       "0  http://us.imdb.com/M/title-exact?Toy%20Story%2...       0       0   \n",
       "1  http://us.imdb.com/M/title-exact?GoldenEye%20(...       0       1   \n",
       "2  http://us.imdb.com/M/title-exact?Four%20Rooms%...       0       0   \n",
       "3  http://us.imdb.com/M/title-exact?Get%20Shorty%...       0       1   \n",
       "4  http://us.imdb.com/M/title-exact?Copycat%20(1995)       0       0   \n",
       "\n",
       "   adventure  animation  children  comedy   ...     fantasy  noir  horror  \\\n",
       "0          0          1         1       1   ...           0     0       0   \n",
       "1          1          0         0       0   ...           0     0       0   \n",
       "2          0          0         0       0   ...           0     0       0   \n",
       "3          0          0         0       1   ...           0     0       0   \n",
       "4          0          0         0       0   ...           0     0       0   \n",
       "\n",
       "   musical  mystery  romance  scifi  thriller  war  western  \n",
       "0        0        0        0      0         0    0      0.0  \n",
       "1        0        0        0      0         1    0      0.0  \n",
       "2        0        0        0      0         1    0      0.0  \n",
       "3        0        0        0      0         0    0      0.0  \n",
       "4        0        0        0      0         1    0      0.0  \n",
       "\n",
       "[5 rows x 23 columns]"
      ]
     },
     "execution_count": 6,
     "metadata": {},
     "output_type": "execute_result"
    }
   ],
   "source": [
    "items_df.head()"
   ]
  },
  {
   "cell_type": "code",
   "execution_count": 7,
   "metadata": {
    "collapsed": true
   },
   "outputs": [],
   "source": [
    "user_features_dict = re.build_dict(np.hstack(['age', 'female', 'male', users_df.occupation.unique()]))\n",
    "user_features_df = re.build_users_dataframe(users_df, user_features_dict)"
   ]
  },
  {
   "cell_type": "code",
   "execution_count": 8,
   "metadata": {
    "collapsed": false
   },
   "outputs": [
    {
     "data": {
      "text/html": [
       "<div>\n",
       "<table border=\"1\" class=\"dataframe\">\n",
       "  <thead>\n",
       "    <tr style=\"text-align: right;\">\n",
       "      <th></th>\n",
       "      <th>user</th>\n",
       "      <th>feature</th>\n",
       "      <th>value</th>\n",
       "    </tr>\n",
       "  </thead>\n",
       "  <tbody>\n",
       "    <tr>\n",
       "      <th>0</th>\n",
       "      <td>0.0</td>\n",
       "      <td>0.0</td>\n",
       "      <td>24.0</td>\n",
       "    </tr>\n",
       "    <tr>\n",
       "      <th>1</th>\n",
       "      <td>0.0</td>\n",
       "      <td>2.0</td>\n",
       "      <td>1.0</td>\n",
       "    </tr>\n",
       "    <tr>\n",
       "      <th>2</th>\n",
       "      <td>0.0</td>\n",
       "      <td>3.0</td>\n",
       "      <td>1.0</td>\n",
       "    </tr>\n",
       "    <tr>\n",
       "      <th>3</th>\n",
       "      <td>1.0</td>\n",
       "      <td>0.0</td>\n",
       "      <td>53.0</td>\n",
       "    </tr>\n",
       "    <tr>\n",
       "      <th>4</th>\n",
       "      <td>1.0</td>\n",
       "      <td>1.0</td>\n",
       "      <td>1.0</td>\n",
       "    </tr>\n",
       "  </tbody>\n",
       "</table>\n",
       "</div>"
      ],
      "text/plain": [
       "   user  feature  value\n",
       "0   0.0      0.0   24.0\n",
       "1   0.0      2.0    1.0\n",
       "2   0.0      3.0    1.0\n",
       "3   1.0      0.0   53.0\n",
       "4   1.0      1.0    1.0"
      ]
     },
     "execution_count": 8,
     "metadata": {},
     "output_type": "execute_result"
    }
   ],
   "source": [
    "user_features_df.head()"
   ]
  },
  {
   "cell_type": "code",
   "execution_count": 9,
   "metadata": {
    "collapsed": false
   },
   "outputs": [],
   "source": [
    "item_features_dict = re.build_dict(np.hstack(['release', items_df.columns[-19:]]))\n",
    "item_features_df = re.build_items_dataframe(items_df, item_features_dict)"
   ]
  },
  {
   "cell_type": "code",
   "execution_count": 10,
   "metadata": {
    "collapsed": false
   },
   "outputs": [
    {
     "data": {
      "text/html": [
       "<div>\n",
       "<table border=\"1\" class=\"dataframe\">\n",
       "  <thead>\n",
       "    <tr style=\"text-align: right;\">\n",
       "      <th></th>\n",
       "      <th>fantasy</th>\n",
       "      <th>unkown</th>\n",
       "      <th>drama</th>\n",
       "      <th>thriller</th>\n",
       "      <th>children</th>\n",
       "      <th>war</th>\n",
       "      <th>animation</th>\n",
       "      <th>action</th>\n",
       "      <th>noir</th>\n",
       "      <th>mystery</th>\n",
       "      <th>musical</th>\n",
       "      <th>scifi</th>\n",
       "      <th>adventure</th>\n",
       "      <th>horror</th>\n",
       "      <th>comedy</th>\n",
       "      <th>documentary</th>\n",
       "      <th>western</th>\n",
       "      <th>release</th>\n",
       "      <th>romance</th>\n",
       "      <th>crime</th>\n",
       "    </tr>\n",
       "  </thead>\n",
       "  <tbody>\n",
       "    <tr>\n",
       "      <th>0</th>\n",
       "      <td>0</td>\n",
       "      <td>0</td>\n",
       "      <td>0</td>\n",
       "      <td>0</td>\n",
       "      <td>1</td>\n",
       "      <td>0</td>\n",
       "      <td>1</td>\n",
       "      <td>0</td>\n",
       "      <td>0</td>\n",
       "      <td>0</td>\n",
       "      <td>0</td>\n",
       "      <td>0</td>\n",
       "      <td>0</td>\n",
       "      <td>0</td>\n",
       "      <td>1</td>\n",
       "      <td>0</td>\n",
       "      <td>0.0</td>\n",
       "      <td>1995</td>\n",
       "      <td>0</td>\n",
       "      <td>0</td>\n",
       "    </tr>\n",
       "    <tr>\n",
       "      <th>1</th>\n",
       "      <td>0</td>\n",
       "      <td>0</td>\n",
       "      <td>0</td>\n",
       "      <td>1</td>\n",
       "      <td>0</td>\n",
       "      <td>0</td>\n",
       "      <td>0</td>\n",
       "      <td>1</td>\n",
       "      <td>0</td>\n",
       "      <td>0</td>\n",
       "      <td>0</td>\n",
       "      <td>0</td>\n",
       "      <td>1</td>\n",
       "      <td>0</td>\n",
       "      <td>0</td>\n",
       "      <td>0</td>\n",
       "      <td>0.0</td>\n",
       "      <td>1995</td>\n",
       "      <td>0</td>\n",
       "      <td>0</td>\n",
       "    </tr>\n",
       "    <tr>\n",
       "      <th>2</th>\n",
       "      <td>0</td>\n",
       "      <td>0</td>\n",
       "      <td>0</td>\n",
       "      <td>1</td>\n",
       "      <td>0</td>\n",
       "      <td>0</td>\n",
       "      <td>0</td>\n",
       "      <td>0</td>\n",
       "      <td>0</td>\n",
       "      <td>0</td>\n",
       "      <td>0</td>\n",
       "      <td>0</td>\n",
       "      <td>0</td>\n",
       "      <td>0</td>\n",
       "      <td>0</td>\n",
       "      <td>0</td>\n",
       "      <td>0.0</td>\n",
       "      <td>1995</td>\n",
       "      <td>0</td>\n",
       "      <td>0</td>\n",
       "    </tr>\n",
       "    <tr>\n",
       "      <th>3</th>\n",
       "      <td>0</td>\n",
       "      <td>0</td>\n",
       "      <td>1</td>\n",
       "      <td>0</td>\n",
       "      <td>0</td>\n",
       "      <td>0</td>\n",
       "      <td>0</td>\n",
       "      <td>1</td>\n",
       "      <td>0</td>\n",
       "      <td>0</td>\n",
       "      <td>0</td>\n",
       "      <td>0</td>\n",
       "      <td>0</td>\n",
       "      <td>0</td>\n",
       "      <td>1</td>\n",
       "      <td>0</td>\n",
       "      <td>0.0</td>\n",
       "      <td>1995</td>\n",
       "      <td>0</td>\n",
       "      <td>0</td>\n",
       "    </tr>\n",
       "    <tr>\n",
       "      <th>4</th>\n",
       "      <td>0</td>\n",
       "      <td>0</td>\n",
       "      <td>1</td>\n",
       "      <td>1</td>\n",
       "      <td>0</td>\n",
       "      <td>0</td>\n",
       "      <td>0</td>\n",
       "      <td>0</td>\n",
       "      <td>0</td>\n",
       "      <td>0</td>\n",
       "      <td>0</td>\n",
       "      <td>0</td>\n",
       "      <td>0</td>\n",
       "      <td>0</td>\n",
       "      <td>0</td>\n",
       "      <td>0</td>\n",
       "      <td>0.0</td>\n",
       "      <td>1995</td>\n",
       "      <td>0</td>\n",
       "      <td>1</td>\n",
       "    </tr>\n",
       "  </tbody>\n",
       "</table>\n",
       "</div>"
      ],
      "text/plain": [
       "   fantasy  unkown  drama  thriller  children  war  animation  action  noir  \\\n",
       "0        0       0      0         0         1    0          1       0     0   \n",
       "1        0       0      0         1         0    0          0       1     0   \n",
       "2        0       0      0         1         0    0          0       0     0   \n",
       "3        0       0      1         0         0    0          0       1     0   \n",
       "4        0       0      1         1         0    0          0       0     0   \n",
       "\n",
       "   mystery  musical  scifi  adventure  horror  comedy  documentary  western  \\\n",
       "0        0        0      0          0       0       1            0      0.0   \n",
       "1        0        0      0          1       0       0            0      0.0   \n",
       "2        0        0      0          0       0       0            0      0.0   \n",
       "3        0        0      0          0       0       1            0      0.0   \n",
       "4        0        0      0          0       0       0            0      0.0   \n",
       "\n",
       "   release  romance  crime  \n",
       "0     1995        0      0  \n",
       "1     1995        0      0  \n",
       "2     1995        0      0  \n",
       "3     1995        0      0  \n",
       "4     1995        0      1  "
      ]
     },
     "execution_count": 10,
     "metadata": {},
     "output_type": "execute_result"
    }
   ],
   "source": [
    "item_features_df.head()"
   ]
  },
  {
   "cell_type": "code",
   "execution_count": 11,
   "metadata": {
    "collapsed": false
   },
   "outputs": [],
   "source": [
    "# Getting stats\n",
    "length = len(ratings_df)\n",
    "num_users = len(ratings_df['user'].unique())\n",
    "num_items = len(ratings_df['item'].unique())\n",
    "num_user_features = len(user_features_dict)\n",
    "num_item_features = len(item_features_dict)"
   ]
  },
  {
   "cell_type": "code",
   "execution_count": 12,
   "metadata": {
    "collapsed": false
   },
   "outputs": [
    {
     "data": {
      "text/plain": [
       "(100000, 943, 1682, 24, 20)"
      ]
     },
     "execution_count": 12,
     "metadata": {},
     "output_type": "execute_result"
    }
   ],
   "source": [
    "length, num_users, num_items, num_user_features, num_item_features"
   ]
  },
  {
   "cell_type": "code",
   "execution_count": 13,
   "metadata": {
    "collapsed": false
   },
   "outputs": [],
   "source": [
    "# Getting a quasi-k-fold\n",
    "ss = model_selection.ShuffleSplit(n_splits=1, random_state=19, test_size=0.1)\n",
    "for train_index, test_index in ss.split(ratings_df):\n",
    "    break"
   ]
  },
  {
   "cell_type": "code",
   "execution_count": 14,
   "metadata": {
    "collapsed": false
   },
   "outputs": [
    {
     "data": {
      "text/plain": [
       "(90000, 10000)"
      ]
     },
     "execution_count": 14,
     "metadata": {},
     "output_type": "execute_result"
    }
   ],
   "source": [
    "len(train_index), len(test_index)"
   ]
  },
  {
   "cell_type": "code",
   "execution_count": 15,
   "metadata": {
    "collapsed": true
   },
   "outputs": [],
   "source": [
    "# Getting the training and testing datasets\n",
    "train_df = ratings_df.iloc[train_index]\n",
    "test_df = ratings_df.iloc[test_index]"
   ]
  },
  {
   "cell_type": "code",
   "execution_count": 16,
   "metadata": {
    "collapsed": false
   },
   "outputs": [],
   "source": [
    "# Transforming the final data to sparse matrices\n",
    "train_data = re.build_interaction_matrix(num_users, num_items, train_df,\n",
    "                                         re.collaborative_filter, {'min_rating': 3})\n",
    "test_data = re.build_interaction_matrix(num_users, num_items,\n",
    "                                        test_df, re.collaborative_filter, {'min_rating': 3})\n",
    "user_features = re.build_interaction_matrix(num_users, num_user_features,\n",
    "                                            user_features_df, re.content_filter, {'kind': 'user'})\n",
    "item_features = re.build_interaction_matrix(item_features_df)"
   ]
  },
  {
   "cell_type": "code",
   "execution_count": 17,
   "metadata": {
    "collapsed": false
   },
   "outputs": [
    {
     "data": {
      "text/plain": [
       "<lightfm.lightfm.LightFM at 0x7f3b2efa2c88>"
      ]
     },
     "execution_count": 17,
     "metadata": {},
     "output_type": "execute_result"
    }
   ],
   "source": [
    "# Training the model\n",
    "model = LightFM(no_components=5, loss='warp', learning_schedule='adagrad',\n",
    "                random_state=19)\n",
    "\n",
    "model.fit(train_data, # user_features=user_features, item_features=item_features,\n",
    "          epochs=5, num_threads=2)"
   ]
  },
  {
   "cell_type": "code",
   "execution_count": 18,
   "metadata": {
    "collapsed": false
   },
   "outputs": [],
   "source": [
    "# Scoring...\n",
    "auc_score_train = evaluation.auc_score(model, train_data,\n",
    "                                       # user_features=user_features, item_features=item_features,\n",
    "                                       num_threads=2).mean()\n",
    "auc_score_test = evaluation.auc_score(model, test_data,\n",
    "                                      # user_features=user_features, item_features=item_features,\n",
    "                                      num_threads=2).mean()"
   ]
  },
  {
   "cell_type": "code",
   "execution_count": 19,
   "metadata": {
    "collapsed": false
   },
   "outputs": [
    {
     "data": {
      "text/plain": [
       "(0.91944134, 0.89603335)"
      ]
     },
     "execution_count": 19,
     "metadata": {},
     "output_type": "execute_result"
    }
   ],
   "source": [
    "auc_score_train, auc_score_test"
   ]
  },
  {
   "cell_type": "code",
   "execution_count": 20,
   "metadata": {
    "collapsed": false
   },
   "outputs": [
    {
     "data": {
      "text/plain": [
       "array(['From Dusk Till Dawn (1996)', 'Muppet Treasure Island (1996)',\n",
       "       'Escape from L.A. (1996)', 'Lost World: Jurassic Park, The (1997)',\n",
       "       'Spawn (1997)', 'Arrival, The (1996)', 'Solo (1996)',\n",
       "       'Event Horizon (1997)', 'Hellraiser: Bloodline (1996)',\n",
       "       'Men in Black (1997)', 'Face/Off (1997)',\n",
       "       'Alien: Resurrection (1997)', 'Lost in Space (1998)',\n",
       "       'Star Trek: First Contact (1996)', 'Deep Rising (1998)',\n",
       "       'Space Jam (1996)', 'Nutty Professor, The (1996)',\n",
       "       'Dragonheart (1996)', 'Dark City (1998)', 'Maximum Risk (1996)',\n",
       "       'Daylight (1996)', 'Twister (1996)', 'Rock, The (1996)',\n",
       "       'Chain Reaction (1996)', 'Hercules (1997)', 'Barb Wire (1996)',\n",
       "       'Mars Attacks! (1996)', 'Close Shave, A (1995)', 'Anaconda (1997)',\n",
       "       'Con Air (1997)', 'Mulholland Falls (1996)',\n",
       "       'Rumble in the Bronx (1995)',\n",
       "       'Ghost in the Shell (Kokaku kidotai) (1995)',\n",
       "       'Warriors of Virtue (1997)', 'Fifth Element, The (1997)',\n",
       "       'Return of the Jedi (1983)', 'L.A. Confidential (1997)',\n",
       "       'Starship Troopers (1997)', 'Power 98 (1995)', 'Firestorm (1998)',\n",
       "       'Sphere (1998)', \"Devil's Advocate, The (1997)\",\n",
       "       'Batman & Robin (1997)', 'Blues Brothers 2000 (1998)',\n",
       "       'Star Kid (1997)', 'Conspiracy Theory (1997)',\n",
       "       'Crow: City of Angels, The (1996)', 'Glimmer Man, The (1996)',\n",
       "       'Eraser (1996)', 'Supercop (1992)', 'Broken Arrow (1996)',\n",
       "       'Executive Decision (1996)', 'Shopping (1994)',\n",
       "       'Long Kiss Goodnight, The (1996)', 'Unforgettable (1996)',\n",
       "       'Island of Dr. Moreau, The (1996)',\n",
       "       'Lawnmower Man 2: Beyond Cyberspace (1996)',\n",
       "       'Speed 2: Cruise Control (1997)', 'Tomorrow Never Dies (1997)',\n",
       "       'Saint, The (1997)', 'Best Men (1997)',\n",
       "       'Independence Day (ID4) (1996)', 'Breakdown (1997)',\n",
       "       'Air Force One (1997)', \"Dante's Peak (1997)\", 'Jackal, The (1997)',\n",
       "       'Stag (1997)', 'Mimic (1997)', 'Big Lebowski, The (1998)',\n",
       "       'New York Cop (1996)', 'Set It Off (1996)', 'Fallen (1998)',\n",
       "       'U Turn (1997)', 'Mission: Impossible (1996)',\n",
       "       'Truth or Consequences, N.M. (1997)', 'Hard Rain (1998)',\n",
       "       'U.S. Marshalls (1998)', 'Replacement Killers, The (1998)',\n",
       "       'Hunchback of Notre Dame, The (1996)',\n",
       "       'James and the Giant Peach (1996)',\n",
       "       'All Dogs Go to Heaven 2 (1996)', \"Smilla's Sense of Snow (1997)\",\n",
       "       'Fire Down Below (1997)', 'Gattaca (1997)',\n",
       "       'Mystery Science Theater 3000: The Movie (1996)',\n",
       "       'Visitors, The (Visiteurs, Les) (1993)',\n",
       "       'Ghost and the Darkness, The (1996)', 'Fled (1996)',\n",
       "       'Quest, The (1996)', 'Scream (1996)', 'Thinner (1996)',\n",
       "       'Anastasia (1997)', \"Cats Don't Dance (1997)\",\n",
       "       'Mercury Rising (1998)', 'Beavis and Butt-head Do America (1996)',\n",
       "       'I Know What You Did Last Summer (1997)', 'Money Talks (1997)',\n",
       "       'Money Talks (1997)', 'Beverly Hills Ninja (1997)',\n",
       "       'Mortal Kombat: Annihilation (1997)'], dtype=object)"
      ]
     },
     "execution_count": 20,
     "metadata": {},
     "output_type": "execute_result"
    }
   ],
   "source": [
    "# And getting a recommendation!!\n",
    "user_id = 2  # The user for recommending movies\n",
    "year = 1995  # A filter\n",
    "\n",
    "scores = model.predict(user_id, np.arange(num_items), user_features=user_features,\n",
    "                       item_features=item_features, num_threads=2)\n",
    "\n",
    "scores_index_sorted = scores.argsort()[::-1]  # Sorting, getting indeces and reversing\n",
    "after_95 = item_features_df.release.values > year  # Filtering by year\n",
    "after_95_sorted = after_95[scores_index_sorted]  # Sorting filter\n",
    "recommendation = scores_index_sorted[after_95_sorted]  # Getting recommendation\n",
    "\n",
    "items_df.title.values[recommendation][:100]  # Getting recommendation tittles"
   ]
  }
 ],
 "metadata": {
  "kernelspec": {
   "display_name": "Python 3",
   "language": "python",
   "name": "python3"
  },
  "language_info": {
   "codemirror_mode": {
    "name": "ipython",
    "version": 3
   },
   "file_extension": ".py",
   "mimetype": "text/x-python",
   "name": "python",
   "nbconvert_exporter": "python",
   "pygments_lexer": "ipython3",
   "version": "3.5.2"
  }
 },
 "nbformat": 4,
 "nbformat_minor": 2
}
